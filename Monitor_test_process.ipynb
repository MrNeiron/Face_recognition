{
 "cells": [
  {
   "cell_type": "code",
   "execution_count": 1,
   "metadata": {},
   "outputs": [
    {
     "name": "stderr",
     "output_type": "stream",
     "text": [
      "C:\\ProgramData\\Anaconda3\\lib\\site-packages\\h5py\\__init__.py:36: FutureWarning: Conversion of the second argument of issubdtype from `float` to `np.floating` is deprecated. In future, it will be treated as `np.float64 == np.dtype(float).type`.\n",
      "  from ._conv import register_converters as _register_converters\n",
      "Using TensorFlow backend.\n"
     ]
    }
   ],
   "source": [
    "import matplotlib.pyplot as plt\n",
    "from utils import get_params_from_file as get_params, get_all_params, comm_dict, get_pandas_dataframe"
   ]
  },
  {
   "cell_type": "code",
   "execution_count": 2,
   "metadata": {},
   "outputs": [],
   "source": [
    "import numpy as np\n",
    "np.random.seed(1)"
   ]
  },
  {
   "cell_type": "code",
   "execution_count": 17,
   "metadata": {},
   "outputs": [],
   "source": [
    "def set_bounds(y_bound = None, x_bound = None, y_step = None, x_step = None):\n",
    "    if y_bound is not None: \n",
    "        plt.ylim(y_bound)\n",
    "        if y_step is not None: plt.yticks(np.arange(y_bound[0],y_bound[1],y_step))\n",
    "    if x_bound is not None: \n",
    "        plt.xlim(x_bound)\n",
    "        if x_step is not None: plt.xticks(np.arange(x_bound[0],x_bound[1],x_step))"
   ]
  },
  {
   "cell_type": "code",
   "execution_count": 3,
   "metadata": {},
   "outputs": [],
   "source": [
    "prefix = \"history\"\n",
    "types = [6,8,8.2,8.3,9.3,10.1,10.2,10.3,11.1]\n",
    "filenames = [f\"history_test{i}.txt\" for i in types]\n",
    "filenames = [prefix+'/'+f for f in filenames]"
   ]
  },
  {
   "cell_type": "code",
   "execution_count": 4,
   "metadata": {},
   "outputs": [],
   "source": [
    "train_filenames = [f\"history{i}.txt\" for i in types]\n",
    "\n",
    "train_filenames = [prefix+'/'+f for f in train_filenames]"
   ]
  },
  {
   "cell_type": "code",
   "execution_count": 5,
   "metadata": {},
   "outputs": [],
   "source": [
    "acc = [get_params(f, \"Test accuracy\", with_name = False) for f in filenames]"
   ]
  },
  {
   "cell_type": "code",
   "execution_count": 6,
   "metadata": {},
   "outputs": [],
   "source": [
    "test_examples = [get_params(f, \"test_examples\") for f in filenames]"
   ]
  },
  {
   "cell_type": "code",
   "execution_count": 7,
   "metadata": {},
   "outputs": [],
   "source": [
    "title = [get_params(f, \"load_model_name\", with_name = False) for f in filenames]\n",
    "title = [t[t.index('/')+1:-3] for t in title]"
   ]
  },
  {
   "cell_type": "code",
   "execution_count": 8,
   "metadata": {},
   "outputs": [],
   "source": [
    "params = [get_all_params(f, False, False, \n",
    "                        \"input_shape\", \n",
    "                        \"batch_size\", \n",
    "                        \"epochs\", \n",
    "                        \"learning_rate\", \n",
    "                        \"l2\", \n",
    "                        \"all_examples\") for f in train_filenames]\n"
   ]
  },
  {
   "cell_type": "code",
   "execution_count": 9,
   "metadata": {},
   "outputs": [],
   "source": [
    "for i in range(len(params)):\n",
    "    params[i][\"Accuracy\"] = acc[i]\n",
    "    params[i][\"Test examples\"] = test_examples[i]"
   ]
  },
  {
   "cell_type": "code",
   "execution_count": 10,
   "metadata": {},
   "outputs": [],
   "source": [
    "all_params = get_pandas_dataframe(comm_dict(params, title))"
   ]
  },
  {
   "cell_type": "code",
   "execution_count": 28,
   "metadata": {},
   "outputs": [
    {
     "data": {
      "image/png": "[encoded data removed]",
      "text/plain": [
       "<Figure size 432x288 with 1 Axes>"
      ]
     },
     "metadata": {},
     "output_type": "display_data"
    },
    {
     "data": {
      "text/html": [
       "<div>\n",
       "<style scoped>\n",
       "    .dataframe tbody tr th:only-of-type {\n",
       "        vertical-align: middle;\n",
       "    }\n",
       "\n",
       "    .dataframe tbody tr th {\n",
       "        vertical-align: top;\n",
       "    }\n",
       "\n",
       "    .dataframe thead th {\n",
       "        text-align: right;\n",
       "    }\n",
       "</style>\n",
       "<table border=\"1\" class=\"dataframe\">\n",
       "  <thead>\n",
       "    <tr style=\"text-align: right;\">\n",
       "      <th></th>\n",
       "      <th>FaceModel_whaleType10.1</th>\n",
       "      <th>FaceModel_whaleType10.2</th>\n",
       "      <th>FaceModel_whaleType10.3</th>\n",
       "      <th>FaceModel_whaleType11.1</th>\n",
       "      <th>FaceModel_whaleType6</th>\n",
       "      <th>FaceModel_whaleType8</th>\n",
       "      <th>FaceModel_whaleType8.2</th>\n",
       "      <th>FaceModel_whaleType8.3</th>\n",
       "      <th>FaceModel_whaleType9.3</th>\n",
       "    </tr>\n",
       "  </thead>\n",
       "  <tbody>\n",
       "    <tr>\n",
       "      <th>input_shape</th>\n",
       "      <td>(96, 96, 1)</td>\n",
       "      <td>(96, 96, 1)</td>\n",
       "      <td>(96, 96, 1)</td>\n",
       "      <td>(96, 96, 1)</td>\n",
       "      <td>(96, 96, 1)</td>\n",
       "      <td>(96, 96, 1)</td>\n",
       "      <td>(96, 96, 1)</td>\n",
       "      <td>(96, 96, 1)</td>\n",
       "      <td>(96, 96, 1)</td>\n",
       "    </tr>\n",
       "    <tr>\n",
       "      <th>batch_size</th>\n",
       "      <td>400</td>\n",
       "      <td>400</td>\n",
       "      <td>400</td>\n",
       "      <td>400</td>\n",
       "      <td>100</td>\n",
       "      <td>200</td>\n",
       "      <td>100</td>\n",
       "      <td>400</td>\n",
       "      <td>200</td>\n",
       "    </tr>\n",
       "    <tr>\n",
       "      <th>epochs</th>\n",
       "      <td>90</td>\n",
       "      <td>90</td>\n",
       "      <td>90</td>\n",
       "      <td>50</td>\n",
       "      <td>50</td>\n",
       "      <td>90</td>\n",
       "      <td>90</td>\n",
       "      <td>90</td>\n",
       "      <td>84</td>\n",
       "    </tr>\n",
       "    <tr>\n",
       "      <th>learning_rate</th>\n",
       "      <td>0.001</td>\n",
       "      <td>0.001</td>\n",
       "      <td>0.001</td>\n",
       "      <td>0.001</td>\n",
       "      <td>0.001</td>\n",
       "      <td>0.001</td>\n",
       "      <td>0.001</td>\n",
       "      <td>0.001</td>\n",
       "      <td>0.001</td>\n",
       "    </tr>\n",
       "    <tr>\n",
       "      <th>l2</th>\n",
       "      <td>0.0003</td>\n",
       "      <td>0.0005</td>\n",
       "      <td>0.01</td>\n",
       "      <td>0.0007</td>\n",
       "      <td>0.0001</td>\n",
       "      <td>0.0001</td>\n",
       "      <td>0.0001</td>\n",
       "      <td>0.0001</td>\n",
       "      <td>0.0001</td>\n",
       "    </tr>\n",
       "    <tr>\n",
       "      <th>all_examples</th>\n",
       "      <td>4500</td>\n",
       "      <td>4500</td>\n",
       "      <td>4500</td>\n",
       "      <td>4500</td>\n",
       "      <td>2100</td>\n",
       "      <td>4500</td>\n",
       "      <td>4500</td>\n",
       "      <td>4500</td>\n",
       "      <td>2100</td>\n",
       "    </tr>\n",
       "    <tr>\n",
       "      <th>Accuracy</th>\n",
       "      <td>0.513333</td>\n",
       "      <td>0.541667</td>\n",
       "      <td>0.485</td>\n",
       "      <td>0.546667</td>\n",
       "      <td>0.51</td>\n",
       "      <td>0.511667</td>\n",
       "      <td>0.576667</td>\n",
       "      <td>0.558333</td>\n",
       "      <td>0.521667</td>\n",
       "    </tr>\n",
       "    <tr>\n",
       "      <th>Test examples</th>\n",
       "      <td>600</td>\n",
       "      <td>600</td>\n",
       "      <td>600</td>\n",
       "      <td>600</td>\n",
       "      <td>600</td>\n",
       "      <td>600</td>\n",
       "      <td>600</td>\n",
       "      <td>600</td>\n",
       "      <td>600</td>\n",
       "    </tr>\n",
       "  </tbody>\n",
       "</table>\n",
       "</div>"
      ],
      "text/plain": [
       "              FaceModel_whaleType10.1 FaceModel_whaleType10.2  \\\n",
       "input_shape               (96, 96, 1)             (96, 96, 1)   \n",
       "batch_size                        400                     400   \n",
       "epochs                             90                      90   \n",
       "learning_rate                   0.001                   0.001   \n",
       "l2                             0.0003                  0.0005   \n",
       "all_examples                     4500                    4500   \n",
       "Accuracy                     0.513333                0.541667   \n",
       "Test examples                     600                     600   \n",
       "\n",
       "              FaceModel_whaleType10.3 FaceModel_whaleType11.1  \\\n",
       "input_shape               (96, 96, 1)             (96, 96, 1)   \n",
       "batch_size                        400                     400   \n",
       "epochs                             90                      50   \n",
       "learning_rate                   0.001                   0.001   \n",
       "l2                               0.01                  0.0007   \n",
       "all_examples                     4500                    4500   \n",
       "Accuracy                        0.485                0.546667   \n",
       "Test examples                     600                     600   \n",
       "\n",
       "              FaceModel_whaleType6 FaceModel_whaleType8  \\\n",
       "input_shape            (96, 96, 1)          (96, 96, 1)   \n",
       "batch_size                     100                  200   \n",
       "epochs                          50                   90   \n",
       "learning_rate                0.001                0.001   \n",
       "l2                          0.0001               0.0001   \n",
       "all_examples                  2100                 4500   \n",
       "Accuracy                      0.51             0.511667   \n",
       "Test examples                  600                  600   \n",
       "\n",
       "              FaceModel_whaleType8.2 FaceModel_whaleType8.3  \\\n",
       "input_shape              (96, 96, 1)            (96, 96, 1)   \n",
       "batch_size                       100                    400   \n",
       "epochs                            90                     90   \n",
       "learning_rate                  0.001                  0.001   \n",
       "l2                            0.0001                 0.0001   \n",
       "all_examples                    4500                   4500   \n",
       "Accuracy                    0.576667               0.558333   \n",
       "Test examples                    600                    600   \n",
       "\n",
       "              FaceModel_whaleType9.3  \n",
       "input_shape              (96, 96, 1)  \n",
       "batch_size                       200  \n",
       "epochs                            84  \n",
       "learning_rate                  0.001  \n",
       "l2                            0.0001  \n",
       "all_examples                    2100  \n",
       "Accuracy                    0.521667  \n",
       "Test examples                    600  "
      ]
     },
     "execution_count": 28,
     "metadata": {},
     "output_type": "execute_result"
    }
   ],
   "source": [
    "fig, ax = plt.subplots()\n",
    "ind = np.arange(1,len(types)+1)\n",
    "\n",
    "np.random.seed(9)\n",
    "bars = plt.bar(ind, acc)\n",
    "colors = [np.random.rand(1,3) for _ in range(len(bars))]\n",
    "\n",
    "[b.set_color(c[0]) for b,c in zip(bars,colors)]\n",
    "ax.set_xticks(ind)\n",
    "ax.set_xticklabels(types)\n",
    "plt.legend(bars, title, bbox_to_anchor=(0., 1.12, 1., .102), loc=3,          ncol=2, mode=\"expand\", borderaxespad=0.)\n",
    "ax.set_ylabel(\"Accuracy\")\n",
    "ax.set_title(\"Test Accuracy\")\n",
    "\n",
    "set_bounds(y_bound = (.45,.6), y_step = .01)\n",
    "#plt.savefig(\"history/test_accuracy.jpg\", bbox_inches = \"tight\", quality = 100, dpi = 150)#save_fig\n",
    "plt.show()\n",
    "all_params"
   ]
  },
  {
   "cell_type": "code",
   "execution_count": null,
   "metadata": {},
   "outputs": [],
   "source": []
  }
 ],
 "metadata": {
  "kernelspec": {
   "display_name": "Python 3",
   "language": "python",
   "name": "python3"
  },
  "language_info": {
   "codemirror_mode": {
    "name": "ipython",
    "version": 3
   },
   "file_extension": ".py",
   "mimetype": "text/x-python",
   "name": "python",
   "nbconvert_exporter": "python",
   "pygments_lexer": "ipython3",
   "version": "3.6.5"
  }
 },
 "nbformat": 4,
 "nbformat_minor": 2
}
