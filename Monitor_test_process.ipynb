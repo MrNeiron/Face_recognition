{
 "cells": [
  {
   "cell_type": "code",
   "execution_count": 102,
   "metadata": {},
   "outputs": [],
   "source": [
    "import matplotlib.pyplot as plt\n",
    "from utils import get_params_from_file as get_params, get_all_params, comm_dict, get_pandas_dataframe"
   ]
  },
  {
   "cell_type": "code",
   "execution_count": 103,
   "metadata": {},
   "outputs": [],
   "source": [
    "import numpy as np\n",
    "np.random.seed(1)"
   ]
  },
  {
   "cell_type": "code",
   "execution_count": 104,
   "metadata": {},
   "outputs": [],
   "source": [
    "def set_bounds(y_bound = None, x_bound = None, y_step = None, x_step = None):\n",
    "    if y_bound is not None: \n",
    "        plt.ylim(y_bound)\n",
    "        if y_step is not None: plt.yticks(np.arange(y_bound[0],y_bound[1],y_step))\n",
    "    if x_bound is not None: \n",
    "        plt.xlim(x_bound)\n",
    "        if x_step is not None: plt.xticks(np.arange(x_bound[0],x_bound[1],x_step))"
   ]
  },
  {
   "cell_type": "code",
   "execution_count": 105,
   "metadata": {},
   "outputs": [],
   "source": [
    "prefix = \"history/FaceModel_whaleType\"\n",
    "types = [14.1,14.2,14.3,14.4]\n",
    "filenames = [f\"test/history_test{i}.txt\" for i in types]\n",
    "filenames = [prefix+'/'+f for f in filenames]"
   ]
  },
  {
   "cell_type": "code",
   "execution_count": 106,
   "metadata": {},
   "outputs": [],
   "source": [
    "train_filenames = [f\"train/history{i}.txt\" for i in types]\n",
    "\n",
    "train_filenames = [prefix+'/'+f for f in train_filenames]"
   ]
  },
  {
   "cell_type": "code",
   "execution_count": 114,
   "metadata": {},
   "outputs": [],
   "source": [
    "acc = [get_params(f, \"Test accuracy\", with_name = False) for f in filenames]"
   ]
  },
  {
   "cell_type": "code",
   "execution_count": 115,
   "metadata": {},
   "outputs": [],
   "source": [
    "test_examples = [get_params(f, \"test_examples\") for f in filenames]\n",
    "test_start_folder = [get_params(f, \"start_folder\") for f in filenames]"
   ]
  },
  {
   "cell_type": "code",
   "execution_count": 116,
   "metadata": {},
   "outputs": [],
   "source": [
    "title = [get_params(f, \"load_model_name\", with_name = False) for f in filenames]\n",
    "title = [t[t.index('/')+1:-3] for t in title]\n",
    "title = [t[t.index('/')+1:] for t in title]"
   ]
  },
  {
   "cell_type": "code",
   "execution_count": 121,
   "metadata": {},
   "outputs": [],
   "source": [
    "params = [get_all_params(f, False, False, \n",
    "                        \"input_shape\",\n",
    "                         \"start_folder\",\n",
    "                         \"num_folders\",\n",
    "                         \"batch_size_folder\",\n",
    "                         \"num_folders_val\",\n",
    "                         \"start_folder_val\",\n",
    "                         \"batch_size_folder_val\",\n",
    "                         \"epochs\",\n",
    "                         \"learning_rate\",\n",
    "                         \"l2\",\n",
    "                        \"all_examples\") for f in train_filenames]\n"
   ]
  },
  {
   "cell_type": "code",
   "execution_count": 122,
   "metadata": {},
   "outputs": [],
   "source": [
    "for i in range(len(params)):\n",
    "    params[i][\"Accuracy\"] = acc[i]\n",
    "    params[i][\"Test examples\"] = test_examples[i]\n",
    "    params[i][\"Test start folder\"] = test_start_folder[i]"
   ]
  },
  {
   "cell_type": "code",
   "execution_count": 123,
   "metadata": {},
   "outputs": [],
   "source": [
    "all_params = get_pandas_dataframe(comm_dict(params, title))"
   ]
  },
  {
   "cell_type": "code",
   "execution_count": 124,
   "metadata": {},
   "outputs": [
    {
     "data": {
      "image/png": "[encoded data removed]",
      "text/plain": [
       "<Figure size 432x288 with 1 Axes>"
      ]
     },
     "metadata": {},
     "output_type": "display_data"
    },
    {
     "data": {
      "text/html": [
       "<div>\n",
       "<style scoped>\n",
       "    .dataframe tbody tr th:only-of-type {\n",
       "        vertical-align: middle;\n",
       "    }\n",
       "\n",
       "    .dataframe tbody tr th {\n",
       "        vertical-align: top;\n",
       "    }\n",
       "\n",
       "    .dataframe thead th {\n",
       "        text-align: right;\n",
       "    }\n",
       "</style>\n",
       "<table border=\"1\" class=\"dataframe\">\n",
       "  <thead>\n",
       "    <tr style=\"text-align: right;\">\n",
       "      <th></th>\n",
       "      <th>Model_14.1</th>\n",
       "      <th>Model_14.2</th>\n",
       "      <th>Model_14.3</th>\n",
       "      <th>Model_14.4</th>\n",
       "    </tr>\n",
       "  </thead>\n",
       "  <tbody>\n",
       "    <tr>\n",
       "      <th>input_shape</th>\n",
       "      <td>(96, 96, 1)</td>\n",
       "      <td>(96, 96, 1)</td>\n",
       "      <td>(96, 96, 1)</td>\n",
       "      <td>(96, 96, 1)</td>\n",
       "    </tr>\n",
       "    <tr>\n",
       "      <th>start_folder</th>\n",
       "      <td>0</td>\n",
       "      <td>0</td>\n",
       "      <td>0</td>\n",
       "      <td>0</td>\n",
       "    </tr>\n",
       "    <tr>\n",
       "      <th>num_folders</th>\n",
       "      <td>1000</td>\n",
       "      <td>1000</td>\n",
       "      <td>1000</td>\n",
       "      <td>1000</td>\n",
       "    </tr>\n",
       "    <tr>\n",
       "      <th>batch_size_folder</th>\n",
       "      <td>8</td>\n",
       "      <td>8</td>\n",
       "      <td>8</td>\n",
       "      <td>8</td>\n",
       "    </tr>\n",
       "    <tr>\n",
       "      <th>num_folders_val</th>\n",
       "      <td>80</td>\n",
       "      <td>80</td>\n",
       "      <td>80</td>\n",
       "      <td>80</td>\n",
       "    </tr>\n",
       "    <tr>\n",
       "      <th>start_folder_val</th>\n",
       "      <td>5000</td>\n",
       "      <td>5000</td>\n",
       "      <td>5000</td>\n",
       "      <td>5000</td>\n",
       "    </tr>\n",
       "    <tr>\n",
       "      <th>batch_size_folder_val</th>\n",
       "      <td>2</td>\n",
       "      <td>2</td>\n",
       "      <td>2</td>\n",
       "      <td>2</td>\n",
       "    </tr>\n",
       "    <tr>\n",
       "      <th>epochs</th>\n",
       "      <td>40</td>\n",
       "      <td>40</td>\n",
       "      <td>40</td>\n",
       "      <td>40</td>\n",
       "    </tr>\n",
       "    <tr>\n",
       "      <th>learning_rate</th>\n",
       "      <td>0.001</td>\n",
       "      <td>0.001</td>\n",
       "      <td>0.001</td>\n",
       "      <td>0.001</td>\n",
       "    </tr>\n",
       "    <tr>\n",
       "      <th>l2</th>\n",
       "      <td>0.0007</td>\n",
       "      <td>0.0007</td>\n",
       "      <td>0.0007</td>\n",
       "      <td>0.0007</td>\n",
       "    </tr>\n",
       "    <tr>\n",
       "      <th>all_examples</th>\n",
       "      <td>32400</td>\n",
       "      <td>32400</td>\n",
       "      <td>32400</td>\n",
       "      <td>32400</td>\n",
       "    </tr>\n",
       "    <tr>\n",
       "      <th>Accuracy</th>\n",
       "      <td>0.768</td>\n",
       "      <td>0.5</td>\n",
       "      <td>0.753333</td>\n",
       "      <td>0.653333</td>\n",
       "    </tr>\n",
       "    <tr>\n",
       "      <th>Test examples</th>\n",
       "      <td>750</td>\n",
       "      <td>750</td>\n",
       "      <td>750</td>\n",
       "      <td>750</td>\n",
       "    </tr>\n",
       "    <tr>\n",
       "      <th>Test start folder</th>\n",
       "      <td>300</td>\n",
       "      <td>300</td>\n",
       "      <td>300</td>\n",
       "      <td>300</td>\n",
       "    </tr>\n",
       "  </tbody>\n",
       "</table>\n",
       "</div>"
      ],
      "text/plain": [
       "                        Model_14.1   Model_14.2   Model_14.3   Model_14.4\n",
       "input_shape            (96, 96, 1)  (96, 96, 1)  (96, 96, 1)  (96, 96, 1)\n",
       "start_folder                     0            0            0            0\n",
       "num_folders                   1000         1000         1000         1000\n",
       "batch_size_folder                8            8            8            8\n",
       "num_folders_val                 80           80           80           80\n",
       "start_folder_val              5000         5000         5000         5000\n",
       "batch_size_folder_val            2            2            2            2\n",
       "epochs                          40           40           40           40\n",
       "learning_rate                0.001        0.001        0.001        0.001\n",
       "l2                          0.0007       0.0007       0.0007       0.0007\n",
       "all_examples                 32400        32400        32400        32400\n",
       "Accuracy                     0.768          0.5     0.753333     0.653333\n",
       "Test examples                  750          750          750          750\n",
       "Test start folder              300          300          300          300"
      ]
     },
     "execution_count": 124,
     "metadata": {},
     "output_type": "execute_result"
    }
   ],
   "source": [
    "fig, ax = plt.subplots()\n",
    "ind = np.arange(1,len(types)+1)\n",
    "\n",
    "np.random.seed(9)\n",
    "bars = plt.bar(ind, acc)\n",
    "colors = [np.random.rand(1,3) for _ in range(len(bars))]\n",
    "\n",
    "[b.set_color(c[0]) for b,c in zip(bars,colors)]\n",
    "ax.set_xticks(ind)\n",
    "ax.set_xticklabels(types)\n",
    "plt.legend(bars, title, bbox_to_anchor=(0., 1.12, 1., .102), loc=3,          ncol=2, mode=\"expand\", borderaxespad=0.)\n",
    "ax.set_ylabel(\"Accuracy\")\n",
    "ax.set_title(\"Test Accuracy\")\n",
    "\n",
    "set_bounds(y_bound = (.45,.8), y_step = .05)\n",
    "#plt.savefig(\"history/test_accuracy.jpg\", bbox_inches = \"tight\", quality = 100, dpi = 150)#save_fig\n",
    "plt.show()\n",
    "all_params"
   ]
  },
  {
   "cell_type": "code",
   "execution_count": null,
   "metadata": {},
   "outputs": [],
   "source": []
  }
 ],
 "metadata": {
  "kernelspec": {
   "display_name": "Python 3",
   "language": "python",
   "name": "python3"
  },
  "language_info": {
   "codemirror_mode": {
    "name": "ipython",
    "version": 3
   },
   "file_extension": ".py",
   "mimetype": "text/x-python",
   "name": "python",
   "nbconvert_exporter": "python",
   "pygments_lexer": "ipython3",
   "version": "3.6.5"
  }
 },
 "nbformat": 4,
 "nbformat_minor": 2
}
