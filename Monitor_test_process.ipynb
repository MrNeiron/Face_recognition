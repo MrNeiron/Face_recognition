{
 "cells": [
  {
   "cell_type": "code",
   "execution_count": 1,
   "metadata": {},
   "outputs": [
    {
     "name": "stderr",
     "output_type": "stream",
     "text": [
      "C:\\ProgramData\\Anaconda3\\lib\\site-packages\\h5py\\__init__.py:36: FutureWarning: Conversion of the second argument of issubdtype from `float` to `np.floating` is deprecated. In future, it will be treated as `np.float64 == np.dtype(float).type`.\n",
      "  from ._conv import register_converters as _register_converters\n",
      "Using TensorFlow backend.\n"
     ]
    }
   ],
   "source": [
    "import matplotlib.pyplot as plt\n",
    "from utils import get_params_from_file as get_params, get_all_params, comm_dict, get_pandas_dataframe"
   ]
  },
  {
   "cell_type": "code",
   "execution_count": 182,
   "metadata": {},
   "outputs": [],
   "source": [
    "import numpy as np\n",
    "np.random.seed(1)"
   ]
  },
  {
   "cell_type": "code",
   "execution_count": 114,
   "metadata": {},
   "outputs": [],
   "source": [
    "prefix = \"history\"\n",
    "types = [6,8,8.2,9.2,9.3]\n",
    "filenames = [f\"history_test{i}.txt\" for i in types]\n",
    "filenames = [prefix+'/'+f for f in filenames]"
   ]
  },
  {
   "cell_type": "code",
   "execution_count": 115,
   "metadata": {},
   "outputs": [],
   "source": [
    "train_filenames = [f\"history{i}.txt\" for i in types]\n",
    "\n",
    "train_filenames = [prefix+'/'+f for f in train_filenames]"
   ]
  },
  {
   "cell_type": "code",
   "execution_count": 116,
   "metadata": {},
   "outputs": [],
   "source": [
    "acc = [get_params(f, \"Test accuracy\", with_name = False) for f in filenames]"
   ]
  },
  {
   "cell_type": "code",
   "execution_count": 117,
   "metadata": {},
   "outputs": [],
   "source": [
    "test_examples = [get_params(f, \"test_examples\") for f in filenames]"
   ]
  },
  {
   "cell_type": "code",
   "execution_count": 118,
   "metadata": {},
   "outputs": [],
   "source": [
    "title = [get_params(f, \"load_model_name\", with_name = False) for f in filenames]\n",
    "title = [t[t.index('/')+1:-3] for t in title]"
   ]
  },
  {
   "cell_type": "code",
   "execution_count": 119,
   "metadata": {},
   "outputs": [],
   "source": [
    "params = [get_all_params(f, False, False, \n",
    "                        \"input_shape\", \n",
    "                        \"batch_size\", \n",
    "                        \"epochs\", \n",
    "                        \"learning_rate\", \n",
    "                        \"l2\", \n",
    "                        \"all_examples\") for f in train_filenames]\n"
   ]
  },
  {
   "cell_type": "code",
   "execution_count": 120,
   "metadata": {},
   "outputs": [],
   "source": [
    "for i in range(len(params)):\n",
    "    params[i][\"Accuracy\"] = acc[i]\n",
    "    params[i][\"Test examples\"] = test_examples[i]"
   ]
  },
  {
   "cell_type": "code",
   "execution_count": 121,
   "metadata": {},
   "outputs": [],
   "source": [
    "all_params = get_pandas_dataframe(comm_dict(params, title))"
   ]
  },
  {
   "cell_type": "code",
   "execution_count": 206,
   "metadata": {},
   "outputs": [
    {
     "data": {
      "image/png": "[encoded data removed]",
      "text/plain": [
       "<Figure size 432x288 with 1 Axes>"
      ]
     },
     "metadata": {},
     "output_type": "display_data"
    },
    {
     "data": {
      "text/html": [
       "<div>\n",
       "<style scoped>\n",
       "    .dataframe tbody tr th:only-of-type {\n",
       "        vertical-align: middle;\n",
       "    }\n",
       "\n",
       "    .dataframe tbody tr th {\n",
       "        vertical-align: top;\n",
       "    }\n",
       "\n",
       "    .dataframe thead th {\n",
       "        text-align: right;\n",
       "    }\n",
       "</style>\n",
       "<table border=\"1\" class=\"dataframe\">\n",
       "  <thead>\n",
       "    <tr style=\"text-align: right;\">\n",
       "      <th></th>\n",
       "      <th>FaceModel_whaleType6</th>\n",
       "      <th>FaceModel_whaleType8</th>\n",
       "      <th>FaceModel_whaleType8.2</th>\n",
       "      <th>FaceModel_whaleType9.2</th>\n",
       "      <th>FaceModel_whaleType9.3</th>\n",
       "    </tr>\n",
       "  </thead>\n",
       "  <tbody>\n",
       "    <tr>\n",
       "      <th>input_shape</th>\n",
       "      <td>(96, 96, 1)</td>\n",
       "      <td>(96, 96, 1)</td>\n",
       "      <td>(96, 96, 1)</td>\n",
       "      <td>(96, 96, 1)</td>\n",
       "      <td>(96, 96, 1)</td>\n",
       "    </tr>\n",
       "    <tr>\n",
       "      <th>batch_size</th>\n",
       "      <td>100</td>\n",
       "      <td>200</td>\n",
       "      <td>100</td>\n",
       "      <td>200</td>\n",
       "      <td>200</td>\n",
       "    </tr>\n",
       "    <tr>\n",
       "      <th>epochs</th>\n",
       "      <td>50</td>\n",
       "      <td>90</td>\n",
       "      <td>90</td>\n",
       "      <td>84</td>\n",
       "      <td>84</td>\n",
       "    </tr>\n",
       "    <tr>\n",
       "      <th>learning_rate</th>\n",
       "      <td>0.001</td>\n",
       "      <td>0.001</td>\n",
       "      <td>0.001</td>\n",
       "      <td>0.01</td>\n",
       "      <td>0.001</td>\n",
       "    </tr>\n",
       "    <tr>\n",
       "      <th>l2</th>\n",
       "      <td>0.0001</td>\n",
       "      <td>0.0001</td>\n",
       "      <td>0.0001</td>\n",
       "      <td>0.0001</td>\n",
       "      <td>0.0001</td>\n",
       "    </tr>\n",
       "    <tr>\n",
       "      <th>all_examples</th>\n",
       "      <td>2100</td>\n",
       "      <td>4500</td>\n",
       "      <td>4500</td>\n",
       "      <td>2100</td>\n",
       "      <td>2100</td>\n",
       "    </tr>\n",
       "    <tr>\n",
       "      <th>Accuracy</th>\n",
       "      <td>0.59</td>\n",
       "      <td>0.58</td>\n",
       "      <td>0.576667</td>\n",
       "      <td>0.551667</td>\n",
       "      <td>0.521667</td>\n",
       "    </tr>\n",
       "    <tr>\n",
       "      <th>Test examples</th>\n",
       "      <td>600</td>\n",
       "      <td>600</td>\n",
       "      <td>600</td>\n",
       "      <td>600</td>\n",
       "      <td>600</td>\n",
       "    </tr>\n",
       "  </tbody>\n",
       "</table>\n",
       "</div>"
      ],
      "text/plain": [
       "              FaceModel_whaleType6 FaceModel_whaleType8  \\\n",
       "input_shape            (96, 96, 1)          (96, 96, 1)   \n",
       "batch_size                     100                  200   \n",
       "epochs                          50                   90   \n",
       "learning_rate                0.001                0.001   \n",
       "l2                          0.0001               0.0001   \n",
       "all_examples                  2100                 4500   \n",
       "Accuracy                      0.59                 0.58   \n",
       "Test examples                  600                  600   \n",
       "\n",
       "              FaceModel_whaleType8.2 FaceModel_whaleType9.2  \\\n",
       "input_shape              (96, 96, 1)            (96, 96, 1)   \n",
       "batch_size                       100                    200   \n",
       "epochs                            90                     84   \n",
       "learning_rate                  0.001                   0.01   \n",
       "l2                            0.0001                 0.0001   \n",
       "all_examples                    4500                   2100   \n",
       "Accuracy                    0.576667               0.551667   \n",
       "Test examples                    600                    600   \n",
       "\n",
       "              FaceModel_whaleType9.3  \n",
       "input_shape              (96, 96, 1)  \n",
       "batch_size                       200  \n",
       "epochs                            84  \n",
       "learning_rate                  0.001  \n",
       "l2                            0.0001  \n",
       "all_examples                    2100  \n",
       "Accuracy                    0.521667  \n",
       "Test examples                    600  "
      ]
     },
     "execution_count": 206,
     "metadata": {},
     "output_type": "execute_result"
    }
   ],
   "source": [
    "fig, ax = plt.subplots()\n",
    "ind = np.arange(1,6)\n",
    "\n",
    "np.random.seed(9)\n",
    "bars = plt.bar(ind, acc)\n",
    "colors = [np.random.rand(1,3) for _ in range(len(bars))]\n",
    "\n",
    "[b.set_color(c[0]) for b,c in zip(bars,colors)]\n",
    "ax.set_xticks(ind)\n",
    "ax.set_xticklabels(types)\n",
    "plt.legend(bars, title, bbox_to_anchor=(0., 1.12, 1., .102), loc=3,          ncol=2, mode=\"expand\", borderaxespad=0.)\n",
    "ax.set_ylabel(\"Accuracy\")\n",
    "ax.set_title(\"Test Accuracy\")\n",
    "plt.show()\n",
    "all_params"
   ]
  },
  {
   "cell_type": "code",
   "execution_count": null,
   "metadata": {},
   "outputs": [],
   "source": []
  }
 ],
 "metadata": {
  "kernelspec": {
   "display_name": "Python 3",
   "language": "python",
   "name": "python3"
  },
  "language_info": {
   "codemirror_mode": {
    "name": "ipython",
    "version": 3
   },
   "file_extension": ".py",
   "mimetype": "text/x-python",
   "name": "python",
   "nbconvert_exporter": "python",
   "pygments_lexer": "ipython3",
   "version": "3.6.5"
  }
 },
 "nbformat": 4,
 "nbformat_minor": 2
}
