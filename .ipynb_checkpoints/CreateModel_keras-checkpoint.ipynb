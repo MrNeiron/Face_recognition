{
 "cells": [
  {
   "cell_type": "code",
   "execution_count": null,
   "metadata": {},
   "outputs": [
    {
     "name": "stderr",
     "output_type": "stream",
     "text": [
      "C:\\ProgramData\\Anaconda3\\lib\\site-packages\\h5py\\__init__.py:36: FutureWarning: Conversion of the second argument of issubdtype from `float` to `np.floating` is deprecated. In future, it will be treated as `np.float64 == np.dtype(float).type`.\n",
      "  from ._conv import register_converters as _register_converters\n",
      "Using TensorFlow backend.\n"
     ]
    }
   ],
   "source": [
    "from keras.models import Model"
   ]
  },
  {
   "cell_type": "code",
   "execution_count": null,
   "metadata": {},
   "outputs": [],
   "source": [
    "from keras.layers import Input, Conv2D, MaxPooling2D, Activation, Flatten, Dense, Subtract\n",
    "from keras.regularizers import l2"
   ]
  },
  {
   "cell_type": "code",
   "execution_count": null,
   "metadata": {},
   "outputs": [],
   "source": [
    "INPUT_SHAPE = (96, 96, 1)"
   ]
  },
  {
   "cell_type": "code",
   "execution_count": null,
   "metadata": {},
   "outputs": [],
   "source": [
    "def FirstModel(input_shape):\n",
    "    X_input = Input(input_shape)\n",
    "    \n",
    "    X = Conv2D(6,\n",
    "               kernel_size = (4,4),\n",
    "               kernel_initializer = \"he_normal\",\n",
    "               bias_initializer = \"zeros\",\n",
    "               kernel_regularizer = l2(2e-4))(X_input)\n",
    "    \n",
    "    X = Activation(\"relu\")(X)\n",
    "    X = MaxPooling2D()(X)\n",
    "    \n",
    "    print(X.shape)\n",
    "    X = Conv2D(64, \n",
    "               kernel_size = (10,10),\n",
    "               kernel_initializer = \"he_normal\", \n",
    "               bias_initializer = \"zeros\",\n",
    "               kernel_regularizer = l2(2e-4))(X)\n",
    "    X = Activation(\"relu\")(X)\n",
    "    X = MaxPooling2D()(X)\n",
    "    \n",
    "    print(X.shape)\n",
    "    X = Conv2D(128, \n",
    "               kernel_size = (7,7), \n",
    "               kernel_initializer = \"he_normal\", \n",
    "               bias_initializer = \"zeros\",\n",
    "               kernel_regularizer = l2(2e-4))(X)\n",
    "    X = Activation(\"relu\")(X)\n",
    "    X = MaxPooling2D()(X)\n",
    "    \n",
    "    print(X.shape)\n",
    "    X = Conv2D(128, \n",
    "               kernel_size = (4,4), \n",
    "               kernel_initializer = \"he_normal\", \n",
    "               bias_initializer = \"zeros\",\n",
    "               kernel_regularizer = l2(2e-4))(X)\n",
    "    X = Activation(\"relu\")(X)\n",
    "    X = MaxPooling2D()(X)\n",
    "    \n",
    "    print(X.shape)\n",
    "    '''\n",
    "    X = Conv2D(256, \n",
    "               kernel_size = (4,4), \n",
    "               kernel_initializer = \"he_normal\", \n",
    "               bias_initializer = \"zeros\",\n",
    "               kernel_regularizer = l2(2e-4))(X)\n",
    "    X = Activation(\"relu\")(X)\n",
    "    #X = MaxPooling2D()(X)\n",
    "    '''\n",
    "    \n",
    "    print(X.shape)\n",
    "    X = Flatten()(X)\n",
    "    X_output = Dense(10, activation = \"relu\")(X)\n",
    "\n",
    "    return X_input, X_output"
   ]
  },
  {
   "cell_type": "code",
   "execution_count": null,
   "metadata": {},
   "outputs": [],
   "source": [
    "def CreateModel(input_shape):\n",
    "    X1_input, X1_output = FirstModel(input_shape)\n",
    "    X2_input, X2_output = FirstModel(input_shape)\n",
    "    \n",
    "    Sub = Subtract()([X1_output, X2_output])\n",
    "    \n",
    "    prediction = Dense(1, activation = \"sigmoid\", bias_initializer = \"zeros\")(Sub)\n",
    "    model = Model(input = [X1_input, X2_input], output = prediction)\n",
    "    \n",
    "    model.compile(loss = \"binary_crossentropy\",\n",
    "                  metrics = [\"accuracy\"],\n",
    "                  optimizer = \"adam\")\n",
    "    \n",
    "    \n",
    "    return model"
   ]
  },
  {
   "cell_type": "code",
   "execution_count": null,
   "metadata": {},
   "outputs": [],
   "source": [
    "model = CreateModel(INPUT_SHAPE)"
   ]
  },
  {
   "cell_type": "code",
   "execution_count": null,
   "metadata": {},
   "outputs": [],
   "source": [
    "model.summary()"
   ]
  },
  {
   "cell_type": "code",
   "execution_count": null,
   "metadata": {},
   "outputs": [],
   "source": [
    "model.save(\"models/FaceModel.h5\")"
   ]
  },
  {
   "cell_type": "code",
   "execution_count": null,
   "metadata": {},
   "outputs": [],
   "source": []
  }
 ],
 "metadata": {
  "kernelspec": {
   "display_name": "Python 3",
   "language": "python",
   "name": "python3"
  },
  "language_info": {
   "codemirror_mode": {
    "name": "ipython",
    "version": 3
   },
   "file_extension": ".py",
   "mimetype": "text/x-python",
   "name": "python",
   "nbconvert_exporter": "python",
   "pygments_lexer": "ipython3",
   "version": "3.6.5"
  }
 },
 "nbformat": 4,
 "nbformat_minor": 2
}
