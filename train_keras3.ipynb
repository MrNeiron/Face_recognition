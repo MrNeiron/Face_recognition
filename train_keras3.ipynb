{
 "cells": [
  {
   "cell_type": "code",
   "execution_count": 245,
   "metadata": {},
   "outputs": [],
   "source": [
    "from keras.models import Model\n",
    "from keras.layers import Activation, Add, BatchNormalization, Concatenate, Conv2D, Dense, Flatten, GlobalMaxPooling2D, Lambda, MaxPooling2D, Reshape\n",
    "from keras import regularizers\n",
    "from keras.engine.topology import Input\n",
    "from keras.optimizers import Adam\n",
    "from keras import backend as K\n",
    "#import numpy as np"
   ]
  },
  {
   "cell_type": "code",
   "execution_count": 246,
   "metadata": {},
   "outputs": [],
   "source": [
    "from Prepare_data import Get_data, Shuffle_data\n",
    "from utils import to_file_params, TimeControll"
   ]
  },
  {
   "cell_type": "code",
   "execution_count": 247,
   "metadata": {},
   "outputs": [],
   "source": [
    "from keras.callbacks import ModelCheckpoint"
   ]
  },
  {
   "cell_type": "code",
   "execution_count": 248,
   "metadata": {},
   "outputs": [],
   "source": [
    "import matplotlib.pyplot as plt"
   ]
  },
  {
   "cell_type": "code",
   "execution_count": 249,
   "metadata": {},
   "outputs": [],
   "source": [
    "import json"
   ]
  },
  {
   "cell_type": "code",
   "execution_count": 250,
   "metadata": {},
   "outputs": [],
   "source": [
    "from os.path import exists\n",
    "from os import makedirs"
   ]
  },
  {
   "cell_type": "code",
   "execution_count": 307,
   "metadata": {},
   "outputs": [],
   "source": [
    "TYPE = 0\n",
    "DESCRIPTION = \"Turning num epochs\"\n",
    "RESOLUTION = (96,96)\n",
    "GRAYSCALE = True\n",
    "INPUT_SHAPE = (RESOLUTION[0], RESOLUTION[1], 1 if GRAYSCALE else 3)\n",
    "NUM_EXAMPLES = 15 if TYPE != 0 else 2\n",
    "NUM_FOLDERS = 150 if TYPE != 0 else 2\n",
    "START_FOLDER = 500 if TYPE != 0 else 0\n",
    "BATCH_SIZE = 400 if TYPE != 0 else 1\n",
    "EPOCHS = 50 if TYPE != 0 else 20\n",
    "\n",
    "LEARNING_RATE = 0.001\n",
    "L2 = 0.0007\n",
    "\n",
    "VALIDATION_SIZE = 0.2\n",
    "RANDOM_STATE = 2018\n",
    "\n",
    "NAME_HISTORY = f\"history/FaceModel_whaleType/train/history{TYPE}.txt\" if TYPE != 0 else f\"history/FaceModel_whaleType/train/history_train_test{TYPE}.txt\"\n",
    "NAME_JSON_HISTORY = f\"history/FaceModel_whaleType/JSON/history{TYPE}.json\" if TYPE != 0 else f\"history/FaceModel_whaleType/JSON/history_test{TYPE}.json\"\n",
    "\n",
    "NAME_FIGURE = f\"figures/FaceModel_whaleType/train/{TYPE}/\"\n",
    "\n",
    "SAVE_MODEL_DIR = \"models/FaceModel_whaleType\"\n",
    "SAVE_EACH_MODEL_DIR = f\"{SAVE_MODEL_DIR}/{TYPE}\"\n",
    "\n",
    "SAVE_MODEL_NAME = f\"{SAVE_MODEL_DIR}/Model_{TYPE}.h5\" if TYPE != 0 else f\"{SAVE_MODEL_DIR}/Model_test_{TYPE}.h5\" \n",
    "SAVE_EACH_MODEL_NAME = (f\"{SAVE_EACH_MODEL_DIR}/Model_\" + \"{epoch:02d}-{val_loss:.2f}.h5\") if TYPE != 0 else (f\"{SAVE_EACH_MODEL_DIR}/Model_test_\" + \"{epoch:02d}-{val_loss:.2f}.h5\")\n",
    "\n",
    "DATASET_P = DATASET_N = \"../Datasets/Faces_dataset/Faces\""
   ]
  },
  {
   "cell_type": "code",
   "execution_count": 252,
   "metadata": {},
   "outputs": [
    {
     "name": "stdout",
     "output_type": "stream",
     "text": [
      "(2, 2, 96, 96, 1)\n",
      "(2, 2, 96, 96, 1)\n",
      "new_shape = 4, 96, 96, 1\n",
      "new_shape = 4, 96, 96, 1\n",
      "(4, 1)\n",
      "(2, 2, 96, 96, 1)\n",
      "(2, 2, 96, 96, 1)\n",
      "new_shape = 4, 96, 96, 1\n",
      "new_shape = 4, 96, 96, 1\n",
      "Y_input_n.shape:  (4, 1)\n",
      "X1_input.shape:  (8, 96, 96, 1)\n",
      "X2_input.shape:  (8, 96, 96, 1)\n",
      "Y_input.shape:  (8, 1)\n"
     ]
    }
   ],
   "source": [
    "X1_input, X2_input, Y_input = Get_data(path_p = DATASET_P, \n",
    "                                       path_n = DATASET_N,\n",
    "                                      resolution = RESOLUTION,\n",
    "                                      grayscale = GRAYSCALE,\n",
    "                                      num_examples = NUM_EXAMPLES,\n",
    "                                      num_folders = NUM_FOLDERS,\n",
    "                                      input_shape = INPUT_SHAPE,\n",
    "                                      start_folder = START_FOLDER)"
   ]
  },
  {
   "cell_type": "code",
   "execution_count": 253,
   "metadata": {},
   "outputs": [
    {
     "name": "stdout",
     "output_type": "stream",
     "text": [
      "X_train.shape:  (6, 96, 96, 1)\n",
      "X_val.shape:  (2, 96, 96, 1)\n",
      "Y_train.shape:  (6, 1)\n",
      "Y_val.shape:  (2, 1)\n"
     ]
    }
   ],
   "source": [
    "X_train, X_val, Y_train, Y_val = Shuffle_data(X1_input, X2_input, Y_input, VALIDATION_SIZE, RANDOM_STATE)\n"
   ]
  },
  {
   "cell_type": "code",
   "execution_count": 254,
   "metadata": {},
   "outputs": [],
   "source": [
    "def subblock(x, filter, **kwargs):\n",
    "    x = BatchNormalization()(x)\n",
    "    y = x\n",
    "    y = Conv2D(filter, (1, 1), activation='relu', **kwargs)(y) # Reduce the number of features to 'filter'\n",
    "    y = BatchNormalization()(y)\n",
    "    y = Conv2D(filter, (3, 3), activation='relu', **kwargs)(y) # Extend the feature field\n",
    "    y = BatchNormalization()(y)\n",
    "    y = Conv2D(K.int_shape(x)[-1], (1, 1), **kwargs)(y) # no activation # Restore the number of original features\n",
    "    y = Add()([x,y]) # Add the bypass connection\n",
    "    y = Activation('relu')(y)\n",
    "    return y"
   ]
  },
  {
   "cell_type": "code",
   "execution_count": 255,
   "metadata": {},
   "outputs": [],
   "source": [
    "def build_model(img_shape, lr, l2, activation='sigmoid'):\n",
    "\n",
    "    ##############\n",
    "    # BRANCH MODEL\n",
    "    ##############\n",
    "    regul  = regularizers.l2(l2)\n",
    "    optim  = Adam(lr=lr)\n",
    "    kwargs = {'padding':'same', 'kernel_regularizer':regul}\n",
    "\n",
    "    inp = Input(shape=img_shape) # 384x384x1\n",
    "    x   = Conv2D(64, (9,9), strides=2, activation='relu', **kwargs)(inp)\n",
    "\n",
    "    x   = MaxPooling2D((2, 2), strides=(2, 2))(x) # 96x96x64\n",
    "    for _ in range(1):\n",
    "        x = BatchNormalization()(x)\n",
    "        x = Conv2D(64, (3,3), activation='relu', **kwargs)(x)\n",
    "\n",
    "    x = MaxPooling2D((2, 2), strides=(2, 2))(x) # 48x48x64\n",
    "    x = BatchNormalization()(x)\n",
    "    x = Conv2D(128, (1,1), activation='relu', **kwargs)(x) # 48x48x128\n",
    "    for _ in range(2): x = subblock(x, 64, **kwargs)\n",
    "\n",
    "    x = MaxPooling2D((2, 2), strides=(2, 2))(x) # 24x24x128\n",
    "    x = BatchNormalization()(x)\n",
    "    x = Conv2D(256, (1,1), activation='relu', **kwargs)(x) # 24x24x256\n",
    "    for _ in range(2): x = subblock(x, 64, **kwargs)\n",
    "\n",
    "    x = MaxPooling2D((2, 2), strides=(2, 2))(x) # 12x12x256\n",
    "    x = BatchNormalization()(x)\n",
    "    x = Conv2D(384, (1,1), activation='relu', **kwargs)(x) # 12x12x384\n",
    "    for _ in range(2): x = subblock(x, 96, **kwargs)\n",
    "\n",
    "    x = MaxPooling2D((2, 2), strides=(2, 2))(x) # 6x6x384\n",
    "    x = BatchNormalization()(x)\n",
    "    x = Conv2D(512, (1,1), activation='relu', **kwargs)(x) # 6x6x512\n",
    "    for _ in range(2): x = subblock(x, 128, **kwargs)\n",
    "    \n",
    "    x             = GlobalMaxPooling2D()(x) # 512\n",
    "    branch_model  = Model(inp, x)\n",
    "    \n",
    "    ############\n",
    "    # HEAD MODEL\n",
    "    ############\n",
    "    mid        = 32\n",
    "    xa_inp     = Input(shape=branch_model.output_shape[1:])\n",
    "    xb_inp     = Input(shape=branch_model.output_shape[1:])\n",
    "    x1         = Lambda(lambda x : x[0]*x[1])([xa_inp, xb_inp])\n",
    "    x2         = Lambda(lambda x : x[0] + x[1])([xa_inp, xb_inp])\n",
    "    x3         = Lambda(lambda x : K.abs(x[0] - x[1]))([xa_inp, xb_inp])\n",
    "    x4         = Lambda(lambda x : K.square(x))(x3)\n",
    "    x          = Concatenate()([x1, x2, x3, x4])\n",
    "\n",
    "    x          = Reshape((4, branch_model.output_shape[1], 1), name='reshape1')(x)\n",
    "\n",
    "    # Per feature NN with shared weight is implemented using CONV2D with appropriate stride.\n",
    "    x          = Conv2D(mid, (4, 1), activation='relu', padding='valid')(x)\n",
    "    x          = Reshape((branch_model.output_shape[1], mid, 1))(x)\n",
    "    x          = Conv2D(1, (1, mid), activation='linear', padding='valid')(x)\n",
    "    x          = Flatten(name='flatten')(x)\n",
    "    \n",
    "    # Weighted sum implemented as a Dense layer.\n",
    "    x          = Dense(1, use_bias=True, activation=activation, name='weighted-average')(x)\n",
    "    head_model = Model([xa_inp, xb_inp], x, name='head')\n",
    "\n",
    "    ########################\n",
    "    # SIAMESE NEURAL NETWORK\n",
    "    ########################\n",
    "    # Complete model is constructed by calling the branch model on each input image,\n",
    "    # and then the head model on the resulting 512-vectors.\n",
    "    img_a      = Input(shape=img_shape)\n",
    "    img_b      = Input(shape=img_shape)\n",
    "    xa         = branch_model(img_a)\n",
    "    xb         = branch_model(img_b)\n",
    "    x          = head_model([xa, xb])\n",
    "    model      = Model([img_a, img_b], x)\n",
    "    model.compile(optim, loss='binary_crossentropy', metrics=['binary_crossentropy', 'acc'])\n",
    "    return model, branch_model, head_model"
   ]
  },
  {
   "cell_type": "code",
   "execution_count": 256,
   "metadata": {},
   "outputs": [],
   "source": [
    "FaceModel, _,_ = build_model(INPUT_SHAPE, lr = LEARNING_RATE, l2 = L2)\n"
   ]
  },
  {
   "cell_type": "code",
   "execution_count": 284,
   "metadata": {},
   "outputs": [],
   "source": [
    "history = AccuracyHistory()"
   ]
  },
  {
   "cell_type": "code",
   "execution_count": 285,
   "metadata": {},
   "outputs": [],
   "source": [
    "to_file_params(NAME_HISTORY, [f\"input_shape = {INPUT_SHAPE}\\nnum_examples = {NUM_EXAMPLES}\\nnum_folders = {NUM_FOLDERS}\\nstart_folder = {START_FOLDER}\\nbatch_size = {BATCH_SIZE}\\nepochs = {EPOCHS}\\nlearning_rate = {LEARNING_RATE}\\nl2 = {L2}\\nvalidation_size = {VALIDATION_SIZE}\\nrandom_state = {RANDOM_STATE}\\nname_history = {NAME_HISTORY}\\nsave_model_name = {SAVE_MODEL_NAME}\\ndataset_positive = {DATASET_P}\\ndataset_negative = {DATASET_N}\\ndescription = {DESCRIPTION}\\n\"], with_lines = False)\n",
    "\n",
    "to_file_params(NAME_HISTORY, [f\"all_examples = {Y_input.shape[0]}\\ntrain_examples = {Y_train.shape[0]}\\ntest_examples = {Y_val.shape[0]}\\n\"], with_lines = False)"
   ]
  },
  {
   "cell_type": "code",
   "execution_count": 270,
   "metadata": {},
   "outputs": [],
   "source": [
    "if not exists(SAVE_EACH_MODEL_DIR):\n",
    "    makedirs(SAVE_EACH_MODEL_DIR)"
   ]
  },
  {
   "cell_type": "code",
   "execution_count": 271,
   "metadata": {},
   "outputs": [],
   "source": [
    "callbacks = ModelCheckpoint(SAVE_EACH_MODEL_NAME, \n",
    "                            monitor=[\"val_loss\"], \n",
    "                            mode=\"min\",\n",
    "                            verbose = 1)"
   ]
  },
  {
   "cell_type": "code",
   "execution_count": 261,
   "metadata": {},
   "outputs": [],
   "source": [
    "callback_list = [callbacks]"
   ]
  },
  {
   "cell_type": "code",
   "execution_count": 286,
   "metadata": {},
   "outputs": [],
   "source": [
    "my_time = TimeControll()\n",
    "time_start = my_time.get_start_time()\n",
    "to_file_params(NAME_HISTORY, [f\"\\tStart time = {time_start[0]}:{time_start[1]}\"], with_lines = False)"
   ]
  },
  {
   "cell_type": "code",
   "execution_count": 264,
   "metadata": {},
   "outputs": [
    {
     "name": "stdout",
     "output_type": "stream",
     "text": [
      "Train on 6 samples, validate on 2 samples\n",
      "Epoch 1/20\n",
      "6/6 [==============================] - 105s 17s/step - loss: 3.2854 - binary_crossentropy: 0.6939 - acc: 0.3333 - val_loss: 10.3888 - val_binary_crossentropy: 8.0590 - val_acc: 0.5000\n",
      "\n",
      "Epoch 00001: saving model to models/FaceModel_whaleType/0/Model_test_01-10.39.h5\n",
      "Epoch 2/20\n",
      "6/6 [==============================] - 2s 411ms/step - loss: 2.8447 - binary_crossentropy: 0.6932 - acc: 0.5000 - val_loss: 9.9720 - val_binary_crossentropy: 8.0590 - val_acc: 0.5000\n",
      "\n",
      "Epoch 00002: saving model to models/FaceModel_whaleType/0/Model_test_02-9.97.h5\n",
      "Epoch 3/20\n",
      "6/6 [==============================] - 3s 567ms/step - loss: 2.4536 - binary_crossentropy: 0.6937 - acc: 0.5000 - val_loss: 9.6167 - val_binary_crossentropy: 8.0590 - val_acc: 0.5000\n",
      "\n",
      "Epoch 00003: saving model to models/FaceModel_whaleType/0/Model_test_03-9.62.h5\n",
      "Epoch 4/20\n",
      "6/6 [==============================] - 2s 272ms/step - loss: 2.1238 - binary_crossentropy: 0.6935 - acc: 0.5000 - val_loss: 9.3223 - val_binary_crossentropy: 8.0590 - val_acc: 0.5000\n",
      "\n",
      "Epoch 00004: saving model to models/FaceModel_whaleType/0/Model_test_04-9.32.h5\n",
      "Epoch 5/20\n",
      "6/6 [==============================] - 2s 386ms/step - loss: 1.8522 - binary_crossentropy: 0.6932 - acc: 0.5000 - val_loss: 9.0817 - val_binary_crossentropy: 8.0590 - val_acc: 0.5000\n",
      "\n",
      "Epoch 00005: saving model to models/FaceModel_whaleType/0/Model_test_05-9.08.h5\n",
      "Epoch 6/20\n",
      "6/6 [==============================] - 2s 337ms/step - loss: 1.6315 - binary_crossentropy: 0.6935 - acc: 0.5000 - val_loss: 8.8868 - val_binary_crossentropy: 8.0590 - val_acc: 0.5000\n",
      "\n",
      "Epoch 00006: saving model to models/FaceModel_whaleType/0/Model_test_06-8.89.h5\n",
      "Epoch 7/20\n",
      "6/6 [==============================] - 2s 326ms/step - loss: 1.4527 - binary_crossentropy: 0.6933 - acc: 0.5000 - val_loss: 8.6417 - val_binary_crossentropy: 7.9712 - val_acc: 0.5000\n",
      "\n",
      "Epoch 00007: saving model to models/FaceModel_whaleType/0/Model_test_07-8.64.h5\n",
      "Epoch 8/20\n",
      "6/6 [==============================] - 2s 299ms/step - loss: 1.3088 - binary_crossentropy: 0.6932 - acc: 0.5000 - val_loss: 8.5151 - val_binary_crossentropy: 7.9712 - val_acc: 0.5000\n",
      "\n",
      "Epoch 00008: saving model to models/FaceModel_whaleType/0/Model_test_08-8.52.h5\n",
      "Epoch 9/20\n",
      "6/6 [==============================] - 2s 272ms/step - loss: 1.1929 - binary_crossentropy: 0.6933 - acc: 0.5000 - val_loss: 8.4132 - val_binary_crossentropy: 7.9712 - val_acc: 0.5000\n",
      "\n",
      "Epoch 00009: saving model to models/FaceModel_whaleType/0/Model_test_09-8.41.h5\n",
      "Epoch 10/20\n",
      "6/6 [==============================] - 2s 270ms/step - loss: 1.0995 - binary_crossentropy: 0.6932 - acc: 0.5000 - val_loss: 8.3310 - val_binary_crossentropy: 7.9712 - val_acc: 0.5000\n",
      "\n",
      "Epoch 00010: saving model to models/FaceModel_whaleType/0/Model_test_10-8.33.h5\n",
      "Epoch 11/20\n",
      "6/6 [==============================] - 2s 270ms/step - loss: 1.0242 - binary_crossentropy: 0.6932 - acc: 0.5000 - val_loss: 8.2647 - val_binary_crossentropy: 7.9712 - val_acc: 0.5000\n",
      "\n",
      "Epoch 00011: saving model to models/FaceModel_whaleType/0/Model_test_11-8.26.h5\n",
      "Epoch 12/20\n",
      "6/6 [==============================] - 2s 267ms/step - loss: 0.9634 - binary_crossentropy: 0.6932 - acc: 0.5000 - val_loss: 8.2110 - val_binary_crossentropy: 7.9712 - val_acc: 0.5000\n",
      "\n",
      "Epoch 00012: saving model to models/FaceModel_whaleType/0/Model_test_12-8.21.h5\n",
      "Epoch 13/20\n",
      "6/6 [==============================] - 2s 279ms/step - loss: 0.9141 - binary_crossentropy: 0.6932 - acc: 0.5000 - val_loss: 8.1675 - val_binary_crossentropy: 7.9712 - val_acc: 0.5000\n",
      "\n",
      "Epoch 00013: saving model to models/FaceModel_whaleType/0/Model_test_13-8.17.h5\n",
      "Epoch 14/20\n",
      "6/6 [==============================] - 2s 273ms/step - loss: 0.8742 - binary_crossentropy: 0.6932 - acc: 0.5000 - val_loss: 8.1322 - val_binary_crossentropy: 7.9712 - val_acc: 0.5000\n",
      "\n",
      "Epoch 00014: saving model to models/FaceModel_whaleType/0/Model_test_14-8.13.h5\n",
      "Epoch 15/20\n",
      "6/6 [==============================] - 2s 278ms/step - loss: 0.8418 - binary_crossentropy: 0.6932 - acc: 0.5000 - val_loss: 8.1035 - val_binary_crossentropy: 7.9712 - val_acc: 0.5000\n",
      "\n",
      "Epoch 00015: saving model to models/FaceModel_whaleType/0/Model_test_15-8.10.h5\n",
      "Epoch 16/20\n",
      "6/6 [==============================] - 2s 275ms/step - loss: 0.8153 - binary_crossentropy: 0.6932 - acc: 0.5000 - val_loss: 8.0800 - val_binary_crossentropy: 7.9712 - val_acc: 0.5000\n",
      "\n",
      "Epoch 00016: saving model to models/FaceModel_whaleType/0/Model_test_16-8.08.h5\n",
      "Epoch 17/20\n",
      "6/6 [==============================] - 2s 278ms/step - loss: 0.7938 - binary_crossentropy: 0.6932 - acc: 0.5000 - val_loss: 8.0609 - val_binary_crossentropy: 7.9712 - val_acc: 0.5000\n",
      "\n",
      "Epoch 00017: saving model to models/FaceModel_whaleType/0/Model_test_17-8.06.h5\n",
      "Epoch 18/20\n",
      "6/6 [==============================] - 2s 273ms/step - loss: 0.7762 - binary_crossentropy: 0.6932 - acc: 0.5000 - val_loss: 8.1332 - val_binary_crossentropy: 8.0590 - val_acc: 0.5000\n",
      "\n",
      "Epoch 00018: saving model to models/FaceModel_whaleType/0/Model_test_18-8.13.h5\n",
      "Epoch 19/20\n",
      "6/6 [==============================] - 2s 273ms/step - loss: 0.7618 - binary_crossentropy: 0.6932 - acc: 0.5000 - val_loss: 8.1204 - val_binary_crossentropy: 8.0590 - val_acc: 0.5000\n",
      "\n",
      "Epoch 00019: saving model to models/FaceModel_whaleType/0/Model_test_19-8.12.h5\n",
      "Epoch 20/20\n",
      "6/6 [==============================] - 2s 272ms/step - loss: 0.7501 - binary_crossentropy: 0.6933 - acc: 0.5000 - val_loss: 8.1099 - val_binary_crossentropy: 8.0590 - val_acc: 0.5000\n",
      "\n",
      "Epoch 00020: saving model to models/FaceModel_whaleType/0/Model_test_20-8.11.h5\n"
     ]
    }
   ],
   "source": [
    "hist = FaceModel.fit(X_train,Y_train,\n",
    "                   batch_size = BATCH_SIZE,\n",
    "                   epochs = EPOCHS,\n",
    "                   verbose = 1,\n",
    "                   validation_data = (X_val, Y_val),\n",
    "                   callbacks = callback_list)"
   ]
  },
  {
   "cell_type": "code",
   "execution_count": 287,
   "metadata": {},
   "outputs": [],
   "source": [
    "my_time.set_end_time()"
   ]
  },
  {
   "cell_type": "code",
   "execution_count": 266,
   "metadata": {},
   "outputs": [],
   "source": [
    "FaceModel.save(SAVE_MODEL_NAME)"
   ]
  },
  {
   "cell_type": "code",
   "execution_count": 288,
   "metadata": {},
   "outputs": [],
   "source": [
    "time_end = my_time.get_end_time()\n",
    "time_spend = my_time.get_spend_time()"
   ]
  },
  {
   "cell_type": "code",
   "execution_count": 289,
   "metadata": {},
   "outputs": [],
   "source": [
    "to_file_params(NAME_HISTORY,[f\"\\tEnd time = {time_end[0]}:{time_end[1]}\\n\\tSpend time = {time_spend[0]}:{time_spend[1]}:{time_spend[2]}\"], with_lines = False)\n",
    "\n",
    "to_file_params(NAME_HISTORY,[f\"\\tAccuracy: {hist.history['acc'][-1]}, Val Accuracy: {hist.history['val_acc'][-1]}, Loss: {hist.history['loss'][-1]}, Val Loss: {hist.history['val_loss'][-1]}\"], with_lines = False)\n"
   ]
  },
  {
   "cell_type": "code",
   "execution_count": 290,
   "metadata": {},
   "outputs": [],
   "source": [
    "out = [f\"Epoch {i+1}/{EPOCHS}\\n\\t\\t loss: {loss}, acc: {acc}, val_loss: {val_loss}, val_acc: {val_acc}\" for i,(loss,acc,val_loss,val_acc) in enumerate(zip(hist.history[\"loss\"],hist.history[\"acc\"],hist.history[\"val_loss\"],hist.history[\"val_acc\"]))]\n",
    "\n",
    "to_file_params(NAME_HISTORY, out)"
   ]
  },
  {
   "cell_type": "markdown",
   "metadata": {},
   "source": [
    "# Testing history in json format"
   ]
  },
  {
   "cell_type": "code",
   "execution_count": 308,
   "metadata": {},
   "outputs": [],
   "source": [
    "history_dict = hist.history"
   ]
  },
  {
   "cell_type": "code",
   "execution_count": 312,
   "metadata": {},
   "outputs": [],
   "source": [
    "json.dump(history_dict, open(NAME_JSON_HISTORY, 'a'))"
   ]
  },
  {
   "cell_type": "code",
   "execution_count": 317,
   "metadata": {},
   "outputs": [
    {
     "data": {
      "text/plain": [
       "[0.3333333333333333,\n",
       " 0.5,\n",
       " 0.5,\n",
       " 0.5,\n",
       " 0.5,\n",
       " 0.5,\n",
       " 0.5,\n",
       " 0.5,\n",
       " 0.5,\n",
       " 0.5,\n",
       " 0.5,\n",
       " 0.5,\n",
       " 0.5,\n",
       " 0.5,\n",
       " 0.5,\n",
       " 0.5,\n",
       " 0.5,\n",
       " 0.5,\n",
       " 0.5,\n",
       " 0.5]"
      ]
     },
     "execution_count": 317,
     "metadata": {},
     "output_type": "execute_result"
    }
   ],
   "source": [
    "history_dict[\"acc\"]"
   ]
  },
  {
   "cell_type": "code",
   "execution_count": 314,
   "metadata": {},
   "outputs": [],
   "source": [
    "with open(NAME_JSON_HISTORY, 'r') as fl:\n",
    "    json_file = json.load(fl)"
   ]
  },
  {
   "cell_type": "code",
   "execution_count": 316,
   "metadata": {},
   "outputs": [
    {
     "data": {
      "text/plain": [
       "[0.3333333333333333,\n",
       " 0.5,\n",
       " 0.5,\n",
       " 0.5,\n",
       " 0.5,\n",
       " 0.5,\n",
       " 0.5,\n",
       " 0.5,\n",
       " 0.5,\n",
       " 0.5,\n",
       " 0.5,\n",
       " 0.5,\n",
       " 0.5,\n",
       " 0.5,\n",
       " 0.5,\n",
       " 0.5,\n",
       " 0.5,\n",
       " 0.5,\n",
       " 0.5,\n",
       " 0.5]"
      ]
     },
     "execution_count": 316,
     "metadata": {},
     "output_type": "execute_result"
    }
   ],
   "source": [
    "json_file[\"acc\"]"
   ]
  },
  {
   "cell_type": "markdown",
   "metadata": {},
   "source": [
    "# Plots creation"
   ]
  },
  {
   "cell_type": "code",
   "execution_count": 305,
   "metadata": {},
   "outputs": [],
   "source": [
    "def monitor_process(history, metrics):\n",
    "    metrics_list = {m:history[m] for m in metrics}\n",
    "    epochs = range(len(metrics_list[metrics[0]]))\n",
    "    \n",
    "    if not exists(NAME_FIGURE):\n",
    "        makedirs(NAME_FIGURE)\n",
    "    \n",
    "    for metric,values in metrics_list.items():\n",
    "        plt.plot(epochs, values)\n",
    "        plt.title(f\"Type: {TYPE} - {metric}\")\n",
    "\n",
    "\n",
    "        if TYPE != 0:\n",
    "            plt.savefig(NAME_FIGURE + f'{metric}-{values[-1]:.2f}.jpg', quality = 100, dpi = 150)\n",
    "        else:\n",
    "            plt.savefig(NAME_FIGURE + f'test_{metric}-{values[-1]:.2f}.jpg', quality = 100, dpi = 150)\n",
    "        \n",
    "        plt.show()\n",
    "\n",
    "        #plt.savefig(\"history/test_accuracy.jpg\", bbox_inches = \"tight\", quality = 100, dpi = 150)#save_fig\n"
   ]
  },
  {
   "cell_type": "code",
   "execution_count": 306,
   "metadata": {},
   "outputs": [
    {
     "data": {
      "image/png": "[encoded data removed]",
      "text/plain": [
       "<Figure size 432x288 with 1 Axes>"
      ]
     },
     "metadata": {},
     "output_type": "display_data"
    },
    {
     "data": {
      "image/png": "[encoded data removed]",
      "text/plain": [
       "<Figure size 432x288 with 1 Axes>"
      ]
     },
     "metadata": {},
     "output_type": "display_data"
    },
    {
     "data": {
      "image/png": "[encoded data removed]",
      "text/plain": [
       "<Figure size 432x288 with 1 Axes>"
      ]
     },
     "metadata": {},
     "output_type": "display_data"
    },
    {
     "data": {
      "image/png": "[encoded data removed]",
      "text/plain": [
       "<Figure size 432x288 with 1 Axes>"
      ]
     },
     "metadata": {},
     "output_type": "display_data"
    }
   ],
   "source": [
    "monitor_process(json_file, [\"acc\",\"val_acc\",\"loss\",\"val_loss\"])"
   ]
  },
  {
   "cell_type": "markdown",
   "metadata": {},
   "source": [
    "# Save model in json format"
   ]
  },
  {
   "cell_type": "code",
   "execution_count": 88,
   "metadata": {},
   "outputs": [],
   "source": [
    "model_json = FaceModel.to_json()"
   ]
  },
  {
   "cell_type": "code",
   "execution_count": 89,
   "metadata": {},
   "outputs": [],
   "source": [
    "with open(\"test_history/json_model.json\", 'w') as json_file:\n",
    "    json_file.write(model_json)"
   ]
  },
  {
   "cell_type": "code",
   "execution_count": null,
   "metadata": {},
   "outputs": [],
   "source": []
  }
 ],
 "metadata": {
  "kernelspec": {
   "display_name": "Python 3",
   "language": "python",
   "name": "python3"
  },
  "language_info": {
   "codemirror_mode": {
    "name": "ipython",
    "version": 3
   },
   "file_extension": ".py",
   "mimetype": "text/x-python",
   "name": "python",
   "nbconvert_exporter": "python",
   "pygments_lexer": "ipython3",
   "version": "3.6.5"
  }
 },
 "nbformat": 4,
 "nbformat_minor": 2
}
