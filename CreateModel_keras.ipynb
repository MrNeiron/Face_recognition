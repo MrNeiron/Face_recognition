{
 "cells": [
  {
   "cell_type": "code",
   "execution_count": 9,
   "metadata": {},
   "outputs": [],
   "source": [
    "from keras.models import Model"
   ]
  },
  {
   "cell_type": "code",
   "execution_count": 10,
   "metadata": {},
   "outputs": [],
   "source": [
    "from keras.layers import Input, Conv2D, MaxPooling2D, Activation, Flatten, Dense, Subtract\n",
    "from keras.regularizers import l2"
   ]
  },
  {
   "cell_type": "code",
   "execution_count": 11,
   "metadata": {},
   "outputs": [],
   "source": [
    "INPUT_SHAPE = (96, 96, 1)"
   ]
  },
  {
   "cell_type": "code",
   "execution_count": 12,
   "metadata": {},
   "outputs": [],
   "source": [
    "def FirstModel(input_shape):\n",
    "    X_input = Input(input_shape)\n",
    "    \n",
    "    X = Conv2D(6,\n",
    "               kernel_size = (4,4),\n",
    "               kernel_initializer = \"he_normal\",\n",
    "               bias_initializer = \"zeros\",\n",
    "               kernel_regularizer = l2(2e-4))(X_input)\n",
    "    \n",
    "    X = Activation(\"relu\")(X)\n",
    "    X = MaxPooling2D()(X)\n",
    "    \n",
    "    X = Conv2D(64, \n",
    "               kernel_size = (10,10),\n",
    "               kernel_initializer = \"he_normal\", \n",
    "               bias_initializer = \"zeros\",\n",
    "               kernel_regularizer = l2(2e-4))(X)\n",
    "    X = Activation(\"relu\")(X)\n",
    "    X = MaxPooling2D()(X)\n",
    "    \n",
    "    X = Conv2D(128, \n",
    "               kernel_size = (7,7), \n",
    "               kernel_initializer = \"he_normal\", \n",
    "               bias_initializer = \"zeros\",\n",
    "               kernel_regularizer = l2(2e-4))(X)\n",
    "    X = Activation(\"relu\")(X)\n",
    "    X = MaxPooling2D()(X)\n",
    "    \n",
    "    X = Conv2D(128, \n",
    "               kernel_size = (4,4), \n",
    "               kernel_initializer = \"he_normal\", \n",
    "               bias_initializer = \"zeros\",\n",
    "               kernel_regularizer = l2(2e-4))(X)\n",
    "    X = Activation(\"relu\")(X)\n",
    "    X = MaxPooling2D()(X)\n",
    "\n",
    "    X = Flatten()(X)\n",
    "    X_output = Dense(10, activation = \"relu\")(X)\n",
    "\n",
    "    return X_input, X_output"
   ]
  },
  {
   "cell_type": "code",
   "execution_count": 13,
   "metadata": {},
   "outputs": [],
   "source": [
    "def CreateModel(input_shape):\n",
    "    X1_input, X1_output = FirstModel(input_shape)\n",
    "    X2_input, X2_output = FirstModel(input_shape)\n",
    "    \n",
    "    Sub = Subtract()([X1_output, X2_output])\n",
    "    \n",
    "    prediction = Dense(1, activation = \"sigmoid\", bias_initializer = \"zeros\")(Sub)\n",
    "    model = Model(input = [X1_input, X2_input], output = prediction)\n",
    "    \n",
    "    model.compile(loss = \"binary_crossentropy\",\n",
    "                  metrics = [\"accuracy\"],\n",
    "                  optimizer = \"adam\")\n",
    "    \n",
    "    \n",
    "    return model"
   ]
  },
  {
   "cell_type": "code",
   "execution_count": 14,
   "metadata": {},
   "outputs": [
    {
     "name": "stderr",
     "output_type": "stream",
     "text": [
      "C:\\ProgramData\\Anaconda3\\lib\\site-packages\\ipykernel_launcher.py:8: UserWarning: Update your `Model` call to the Keras 2 API: `Model(inputs=[<tf.Tenso..., outputs=Tensor(\"de...)`\n",
      "  \n"
     ]
    }
   ],
   "source": [
    "model = CreateModel(INPUT_SHAPE)"
   ]
  },
  {
   "cell_type": "code",
   "execution_count": 15,
   "metadata": {},
   "outputs": [
    {
     "name": "stdout",
     "output_type": "stream",
     "text": [
      "__________________________________________________________________________________________________\n",
      "Layer (type)                    Output Shape         Param #     Connected to                     \n",
      "==================================================================================================\n",
      "input_3 (InputLayer)            (None, 96, 96, 1)    0                                            \n",
      "__________________________________________________________________________________________________\n",
      "input_4 (InputLayer)            (None, 96, 96, 1)    0                                            \n",
      "__________________________________________________________________________________________________\n",
      "conv2d_9 (Conv2D)               (None, 93, 93, 6)    102         input_3[0][0]                    \n",
      "__________________________________________________________________________________________________\n",
      "conv2d_13 (Conv2D)              (None, 93, 93, 6)    102         input_4[0][0]                    \n",
      "__________________________________________________________________________________________________\n",
      "activation_9 (Activation)       (None, 93, 93, 6)    0           conv2d_9[0][0]                   \n",
      "__________________________________________________________________________________________________\n",
      "activation_13 (Activation)      (None, 93, 93, 6)    0           conv2d_13[0][0]                  \n",
      "__________________________________________________________________________________________________\n",
      "max_pooling2d_9 (MaxPooling2D)  (None, 46, 46, 6)    0           activation_9[0][0]               \n",
      "__________________________________________________________________________________________________\n",
      "max_pooling2d_13 (MaxPooling2D) (None, 46, 46, 6)    0           activation_13[0][0]              \n",
      "__________________________________________________________________________________________________\n",
      "conv2d_10 (Conv2D)              (None, 37, 37, 64)   38464       max_pooling2d_9[0][0]            \n",
      "__________________________________________________________________________________________________\n",
      "conv2d_14 (Conv2D)              (None, 37, 37, 64)   38464       max_pooling2d_13[0][0]           \n",
      "__________________________________________________________________________________________________\n",
      "activation_10 (Activation)      (None, 37, 37, 64)   0           conv2d_10[0][0]                  \n",
      "__________________________________________________________________________________________________\n",
      "activation_14 (Activation)      (None, 37, 37, 64)   0           conv2d_14[0][0]                  \n",
      "__________________________________________________________________________________________________\n",
      "max_pooling2d_10 (MaxPooling2D) (None, 18, 18, 64)   0           activation_10[0][0]              \n",
      "__________________________________________________________________________________________________\n",
      "max_pooling2d_14 (MaxPooling2D) (None, 18, 18, 64)   0           activation_14[0][0]              \n",
      "__________________________________________________________________________________________________\n",
      "conv2d_11 (Conv2D)              (None, 12, 12, 128)  401536      max_pooling2d_10[0][0]           \n",
      "__________________________________________________________________________________________________\n",
      "conv2d_15 (Conv2D)              (None, 12, 12, 128)  401536      max_pooling2d_14[0][0]           \n",
      "__________________________________________________________________________________________________\n",
      "activation_11 (Activation)      (None, 12, 12, 128)  0           conv2d_11[0][0]                  \n",
      "__________________________________________________________________________________________________\n",
      "activation_15 (Activation)      (None, 12, 12, 128)  0           conv2d_15[0][0]                  \n",
      "__________________________________________________________________________________________________\n",
      "max_pooling2d_11 (MaxPooling2D) (None, 6, 6, 128)    0           activation_11[0][0]              \n",
      "__________________________________________________________________________________________________\n",
      "max_pooling2d_15 (MaxPooling2D) (None, 6, 6, 128)    0           activation_15[0][0]              \n",
      "__________________________________________________________________________________________________\n",
      "conv2d_12 (Conv2D)              (None, 3, 3, 128)    262272      max_pooling2d_11[0][0]           \n",
      "__________________________________________________________________________________________________\n",
      "conv2d_16 (Conv2D)              (None, 3, 3, 128)    262272      max_pooling2d_15[0][0]           \n",
      "__________________________________________________________________________________________________\n",
      "activation_12 (Activation)      (None, 3, 3, 128)    0           conv2d_12[0][0]                  \n",
      "__________________________________________________________________________________________________\n",
      "activation_16 (Activation)      (None, 3, 3, 128)    0           conv2d_16[0][0]                  \n",
      "__________________________________________________________________________________________________\n",
      "max_pooling2d_12 (MaxPooling2D) (None, 1, 1, 128)    0           activation_12[0][0]              \n",
      "__________________________________________________________________________________________________\n",
      "max_pooling2d_16 (MaxPooling2D) (None, 1, 1, 128)    0           activation_16[0][0]              \n",
      "__________________________________________________________________________________________________\n",
      "flatten_3 (Flatten)             (None, 128)          0           max_pooling2d_12[0][0]           \n",
      "__________________________________________________________________________________________________\n",
      "flatten_4 (Flatten)             (None, 128)          0           max_pooling2d_16[0][0]           \n",
      "__________________________________________________________________________________________________\n",
      "dense_4 (Dense)                 (None, 10)           1290        flatten_3[0][0]                  \n",
      "__________________________________________________________________________________________________\n",
      "dense_5 (Dense)                 (None, 10)           1290        flatten_4[0][0]                  \n",
      "__________________________________________________________________________________________________\n",
      "subtract_2 (Subtract)           (None, 10)           0           dense_4[0][0]                    \n",
      "                                                                 dense_5[0][0]                    \n",
      "__________________________________________________________________________________________________\n",
      "dense_6 (Dense)                 (None, 1)            11          subtract_2[0][0]                 \n",
      "==================================================================================================\n",
      "Total params: 1,407,339\n",
      "Trainable params: 1,407,339\n",
      "Non-trainable params: 0\n",
      "__________________________________________________________________________________________________\n"
     ]
    }
   ],
   "source": [
    "model.summary()"
   ]
  },
  {
   "cell_type": "code",
   "execution_count": 16,
   "metadata": {},
   "outputs": [],
   "source": [
    "model.save(\"models/FaceModel.h5\")"
   ]
  },
  {
   "cell_type": "code",
   "execution_count": null,
   "metadata": {},
   "outputs": [],
   "source": []
  }
 ],
 "metadata": {
  "kernelspec": {
   "display_name": "Python 3",
   "language": "python",
   "name": "python3"
  },
  "language_info": {
   "codemirror_mode": {
    "name": "ipython",
    "version": 3
   },
   "file_extension": ".py",
   "mimetype": "text/x-python",
   "name": "python",
   "nbconvert_exporter": "python",
   "pygments_lexer": "ipython3",
   "version": "3.6.5"
  }
 },
 "nbformat": 4,
 "nbformat_minor": 2
}
