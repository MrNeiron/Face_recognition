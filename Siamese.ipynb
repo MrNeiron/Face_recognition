{
 "cells": [
  {
   "cell_type": "code",
   "execution_count": null,
   "metadata": {},
   "outputs": [],
   "source": []
  },
  {
   "cell_type": "code",
   "execution_count": null,
   "metadata": {},
   "outputs": [],
   "source": [
    "class SiameceFaceNet():\n",
    "    def __init__(self):\n",
    "        \n",
    "    def img_to_encoding(self, image_path):\n",
    "        x_train = self.take_image(image_path)\n",
    "        embedding = model.predict_on_batch()\n",
    "    \n",
    "    def take_image(self, image_path):\n",
    "        img = cv2.imread(image_path,1)\n",
    "        img = img[...,::-1]\n",
    "        img = np.around(np.transpose(img, (2,0,1))/255.0, decimals=12)\n",
    "        x_train = np.array([img])\n",
    "        return x_train"
   ]
  }
 ],
 "metadata": {
  "kernelspec": {
   "display_name": "Python 3",
   "language": "python",
   "name": "python3"
  },
  "language_info": {
   "codemirror_mode": {
    "name": "ipython",
    "version": 3
   },
   "file_extension": ".py",
   "mimetype": "text/x-python",
   "name": "python",
   "nbconvert_exporter": "python",
   "pygments_lexer": "ipython3",
   "version": "3.6.5"
  }
 },
 "nbformat": 4,
 "nbformat_minor": 2
}
